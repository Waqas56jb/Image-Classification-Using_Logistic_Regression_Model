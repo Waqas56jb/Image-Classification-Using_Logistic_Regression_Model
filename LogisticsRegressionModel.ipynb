{
 "cells": [
  {
   "cell_type": "markdown",
   "id": "9afc12b7-fabd-46a9-a30b-5320029fbbf6",
   "metadata": {},
   "source": [
    "# IMAGE DIGITS CLASSIFICATION BASED ON DIGITS"
   ]
  },
  {
   "cell_type": "markdown",
   "id": "df585fee-f2e2-4256-aecd-c322bb44a55a",
   "metadata": {},
   "source": [
    "# Logistics Regression Model"
   ]
  },
  {
   "cell_type": "code",
   "execution_count": 133,
   "id": "070b5c43-9682-4b98-8759-e29bb3f6177f",
   "metadata": {},
   "outputs": [],
   "source": [
    "import numpy as np\n",
    "import pandas as pd\n",
    "import seaborn as sns\n",
    "import matplotlib.pyplot as plt"
   ]
  },
  {
   "cell_type": "markdown",
   "id": "3e1f425e-058b-402c-a807-364ada000e9f",
   "metadata": {},
   "source": [
    "# Load Dataset"
   ]
  },
  {
   "cell_type": "code",
   "execution_count": 134,
   "id": "849bbb53-4ccf-4900-9126-51e4a5413b6e",
   "metadata": {},
   "outputs": [
    {
     "data": {
      "text/html": [
       "<div>\n",
       "<style scoped>\n",
       "    .dataframe tbody tr th:only-of-type {\n",
       "        vertical-align: middle;\n",
       "    }\n",
       "\n",
       "    .dataframe tbody tr th {\n",
       "        vertical-align: top;\n",
       "    }\n",
       "\n",
       "    .dataframe thead th {\n",
       "        text-align: right;\n",
       "    }\n",
       "</style>\n",
       "<table border=\"1\" class=\"dataframe\">\n",
       "  <thead>\n",
       "    <tr style=\"text-align: right;\">\n",
       "      <th></th>\n",
       "      <th>age</th>\n",
       "      <th>bought_insurance</th>\n",
       "    </tr>\n",
       "  </thead>\n",
       "  <tbody>\n",
       "    <tr>\n",
       "      <th>0</th>\n",
       "      <td>22</td>\n",
       "      <td>0</td>\n",
       "    </tr>\n",
       "    <tr>\n",
       "      <th>1</th>\n",
       "      <td>25</td>\n",
       "      <td>0</td>\n",
       "    </tr>\n",
       "    <tr>\n",
       "      <th>2</th>\n",
       "      <td>47</td>\n",
       "      <td>1</td>\n",
       "    </tr>\n",
       "  </tbody>\n",
       "</table>\n",
       "</div>"
      ],
      "text/plain": [
       "   age  bought_insurance\n",
       "0   22                 0\n",
       "1   25                 0\n",
       "2   47                 1"
      ]
     },
     "execution_count": 134,
     "metadata": {},
     "output_type": "execute_result"
    }
   ],
   "source": [
    "df=pd.read_csv(\"insurance_data.csv\")\n",
    "df.head(3)"
   ]
  },
  {
   "cell_type": "code",
   "execution_count": 135,
   "id": "f07fd801-0141-4ecb-844d-dc9b1183018f",
   "metadata": {},
   "outputs": [
    {
     "data": {
      "text/plain": [
       "<matplotlib.collections.PathCollection at 0x183ca9cd850>"
      ]
     },
     "execution_count": 135,
     "metadata": {},
     "output_type": "execute_result"
    },
    {
     "data": {
      "image/png": "[encoded data removed]",
      "text/plain": [
       "<Figure size 640x480 with 1 Axes>"
      ]
     },
     "metadata": {},
     "output_type": "display_data"
    }
   ],
   "source": [
    "plt.scatter(df[\"age\"],df[\"bought_insurance\"] ,marker=\"^\",color=\"green\")"
   ]
  },
  {
   "cell_type": "markdown",
   "id": "f64fead6-4a08-469b-bcb2-ee0b41030d0b",
   "metadata": {},
   "source": [
    "# Apply train and testing splitting "
   ]
  },
  {
   "cell_type": "code",
   "execution_count": 136,
   "id": "ab5862d1-d3a3-4a3a-a2f5-86abd6df6f3b",
   "metadata": {},
   "outputs": [],
   "source": [
    "from sklearn.model_selection import train_test_split\n",
    "x=df[[\"age\"]]\n",
    "y=df[\"bought_insurance\"]\n"
   ]
  },
  {
   "cell_type": "code",
   "execution_count": 137,
   "id": "d0404e54-e572-45cd-810a-29d5c405f77b",
   "metadata": {},
   "outputs": [],
   "source": [
    "x_train,x_test,y_train,y_test=train_test_split(x,y)\n"
   ]
  },
  {
   "cell_type": "markdown",
   "id": "304f0a50-9e12-4beb-8a61-4ccece786b55",
   "metadata": {},
   "source": [
    "# Apply Logistic Regresion Model"
   ]
  },
  {
   "cell_type": "code",
   "execution_count": 138,
   "id": "9f836dd6-b62b-4533-b3ae-a1f1bb26500d",
   "metadata": {},
   "outputs": [
    {
     "data": {
      "text/html": [
       "<style>#sk-container-id-5 {color: black;background-color: white;}#sk-container-id-5 pre{padding: 0;}#sk-container-id-5 div.sk-toggleable {background-color: white;}#sk-container-id-5 label.sk-toggleable__label {cursor: pointer;display: block;width: 100%;margin-bottom: 0;padding: 0.3em;box-sizing: border-box;text-align: center;}#sk-container-id-5 label.sk-toggleable__label-arrow:before {content: \"▸\";float: left;margin-right: 0.25em;color: #696969;}#sk-container-id-5 label.sk-toggleable__label-arrow:hover:before {color: black;}#sk-container-id-5 div.sk-estimator:hover label.sk-toggleable__label-arrow:before {color: black;}#sk-container-id-5 div.sk-toggleable__content {max-height: 0;max-width: 0;overflow: hidden;text-align: left;background-color: #f0f8ff;}#sk-container-id-5 div.sk-toggleable__content pre {margin: 0.2em;color: black;border-radius: 0.25em;background-color: #f0f8ff;}#sk-container-id-5 input.sk-toggleable__control:checked~div.sk-toggleable__content {max-height: 200px;max-width: 100%;overflow: auto;}#sk-container-id-5 input.sk-toggleable__control:checked~label.sk-toggleable__label-arrow:before {content: \"▾\";}#sk-container-id-5 div.sk-estimator input.sk-toggleable__control:checked~label.sk-toggleable__label {background-color: #d4ebff;}#sk-container-id-5 div.sk-label input.sk-toggleable__control:checked~label.sk-toggleable__label {background-color: #d4ebff;}#sk-container-id-5 input.sk-hidden--visually {border: 0;clip: rect(1px 1px 1px 1px);clip: rect(1px, 1px, 1px, 1px);height: 1px;margin: -1px;overflow: hidden;padding: 0;position: absolute;width: 1px;}#sk-container-id-5 div.sk-estimator {font-family: monospace;background-color: #f0f8ff;border: 1px dotted black;border-radius: 0.25em;box-sizing: border-box;margin-bottom: 0.5em;}#sk-container-id-5 div.sk-estimator:hover {background-color: #d4ebff;}#sk-container-id-5 div.sk-parallel-item::after {content: \"\";width: 100%;border-bottom: 1px solid gray;flex-grow: 1;}#sk-container-id-5 div.sk-label:hover label.sk-toggleable__label {background-color: #d4ebff;}#sk-container-id-5 div.sk-serial::before {content: \"\";position: absolute;border-left: 1px solid gray;box-sizing: border-box;top: 0;bottom: 0;left: 50%;z-index: 0;}#sk-container-id-5 div.sk-serial {display: flex;flex-direction: column;align-items: center;background-color: white;padding-right: 0.2em;padding-left: 0.2em;position: relative;}#sk-container-id-5 div.sk-item {position: relative;z-index: 1;}#sk-container-id-5 div.sk-parallel {display: flex;align-items: stretch;justify-content: center;background-color: white;position: relative;}#sk-container-id-5 div.sk-item::before, #sk-container-id-5 div.sk-parallel-item::before {content: \"\";position: absolute;border-left: 1px solid gray;box-sizing: border-box;top: 0;bottom: 0;left: 50%;z-index: -1;}#sk-container-id-5 div.sk-parallel-item {display: flex;flex-direction: column;z-index: 1;position: relative;background-color: white;}#sk-container-id-5 div.sk-parallel-item:first-child::after {align-self: flex-end;width: 50%;}#sk-container-id-5 div.sk-parallel-item:last-child::after {align-self: flex-start;width: 50%;}#sk-container-id-5 div.sk-parallel-item:only-child::after {width: 0;}#sk-container-id-5 div.sk-dashed-wrapped {border: 1px dashed gray;margin: 0 0.4em 0.5em 0.4em;box-sizing: border-box;padding-bottom: 0.4em;background-color: white;}#sk-container-id-5 div.sk-label label {font-family: monospace;font-weight: bold;display: inline-block;line-height: 1.2em;}#sk-container-id-5 div.sk-label-container {text-align: center;}#sk-container-id-5 div.sk-container {/* jupyter's `normalize.less` sets `[hidden] { display: none; }` but bootstrap.min.css set `[hidden] { display: none !important; }` so we also need the `!important` here to be able to override the default hidden behavior on the sphinx rendered scikit-learn.org. See: https://github.com/scikit-learn/scikit-learn/issues/21755 */display: inline-block !important;position: relative;}#sk-container-id-5 div.sk-text-repr-fallback {display: none;}</style><div id=\"sk-container-id-5\" class=\"sk-top-container\"><div class=\"sk-text-repr-fallback\"><pre>LogisticRegression()</pre><b>In a Jupyter environment, please rerun this cell to show the HTML representation or trust the notebook. <br />On GitHub, the HTML representation is unable to render, please try loading this page with nbviewer.org.</b></div><div class=\"sk-container\" hidden><div class=\"sk-item\"><div class=\"sk-estimator sk-toggleable\"><input class=\"sk-toggleable__control sk-hidden--visually\" id=\"sk-estimator-id-5\" type=\"checkbox\" checked><label for=\"sk-estimator-id-5\" class=\"sk-toggleable__label sk-toggleable__label-arrow\">LogisticRegression</label><div class=\"sk-toggleable__content\"><pre>LogisticRegression()</pre></div></div></div></div></div>"
      ],
      "text/plain": [
       "LogisticRegression()"
      ]
     },
     "execution_count": 138,
     "metadata": {},
     "output_type": "execute_result"
    }
   ],
   "source": [
    "from sklearn.linear_model import LogisticRegression\n",
    "model=LogisticRegression()\n",
    "model.fit(x_train, y_train)"
   ]
  },
  {
   "cell_type": "code",
   "execution_count": 139,
   "id": "6a3b4f9a-588d-4be3-af08-f8ebf6178b15",
   "metadata": {},
   "outputs": [
    {
     "data": {
      "text/html": [
       "<div>\n",
       "<style scoped>\n",
       "    .dataframe tbody tr th:only-of-type {\n",
       "        vertical-align: middle;\n",
       "    }\n",
       "\n",
       "    .dataframe tbody tr th {\n",
       "        vertical-align: top;\n",
       "    }\n",
       "\n",
       "    .dataframe thead th {\n",
       "        text-align: right;\n",
       "    }\n",
       "</style>\n",
       "<table border=\"1\" class=\"dataframe\">\n",
       "  <thead>\n",
       "    <tr style=\"text-align: right;\">\n",
       "      <th></th>\n",
       "      <th>age</th>\n",
       "      <th>bought_insurance</th>\n",
       "      <th>Predicted</th>\n",
       "    </tr>\n",
       "  </thead>\n",
       "  <tbody>\n",
       "    <tr>\n",
       "      <th>0</th>\n",
       "      <td>22</td>\n",
       "      <td>0</td>\n",
       "      <td>0</td>\n",
       "    </tr>\n",
       "    <tr>\n",
       "      <th>1</th>\n",
       "      <td>25</td>\n",
       "      <td>0</td>\n",
       "      <td>0</td>\n",
       "    </tr>\n",
       "    <tr>\n",
       "      <th>2</th>\n",
       "      <td>47</td>\n",
       "      <td>1</td>\n",
       "      <td>1</td>\n",
       "    </tr>\n",
       "    <tr>\n",
       "      <th>3</th>\n",
       "      <td>52</td>\n",
       "      <td>0</td>\n",
       "      <td>1</td>\n",
       "    </tr>\n",
       "    <tr>\n",
       "      <th>4</th>\n",
       "      <td>46</td>\n",
       "      <td>1</td>\n",
       "      <td>1</td>\n",
       "    </tr>\n",
       "    <tr>\n",
       "      <th>5</th>\n",
       "      <td>56</td>\n",
       "      <td>1</td>\n",
       "      <td>1</td>\n",
       "    </tr>\n",
       "    <tr>\n",
       "      <th>6</th>\n",
       "      <td>55</td>\n",
       "      <td>0</td>\n",
       "      <td>1</td>\n",
       "    </tr>\n",
       "    <tr>\n",
       "      <th>7</th>\n",
       "      <td>60</td>\n",
       "      <td>1</td>\n",
       "      <td>1</td>\n",
       "    </tr>\n",
       "    <tr>\n",
       "      <th>8</th>\n",
       "      <td>62</td>\n",
       "      <td>1</td>\n",
       "      <td>1</td>\n",
       "    </tr>\n",
       "    <tr>\n",
       "      <th>9</th>\n",
       "      <td>61</td>\n",
       "      <td>1</td>\n",
       "      <td>1</td>\n",
       "    </tr>\n",
       "    <tr>\n",
       "      <th>10</th>\n",
       "      <td>18</td>\n",
       "      <td>0</td>\n",
       "      <td>0</td>\n",
       "    </tr>\n",
       "    <tr>\n",
       "      <th>11</th>\n",
       "      <td>28</td>\n",
       "      <td>0</td>\n",
       "      <td>0</td>\n",
       "    </tr>\n",
       "    <tr>\n",
       "      <th>12</th>\n",
       "      <td>27</td>\n",
       "      <td>0</td>\n",
       "      <td>0</td>\n",
       "    </tr>\n",
       "    <tr>\n",
       "      <th>13</th>\n",
       "      <td>29</td>\n",
       "      <td>0</td>\n",
       "      <td>0</td>\n",
       "    </tr>\n",
       "    <tr>\n",
       "      <th>14</th>\n",
       "      <td>49</td>\n",
       "      <td>1</td>\n",
       "      <td>1</td>\n",
       "    </tr>\n",
       "    <tr>\n",
       "      <th>15</th>\n",
       "      <td>55</td>\n",
       "      <td>1</td>\n",
       "      <td>1</td>\n",
       "    </tr>\n",
       "    <tr>\n",
       "      <th>16</th>\n",
       "      <td>25</td>\n",
       "      <td>1</td>\n",
       "      <td>0</td>\n",
       "    </tr>\n",
       "    <tr>\n",
       "      <th>17</th>\n",
       "      <td>58</td>\n",
       "      <td>1</td>\n",
       "      <td>1</td>\n",
       "    </tr>\n",
       "    <tr>\n",
       "      <th>18</th>\n",
       "      <td>19</td>\n",
       "      <td>0</td>\n",
       "      <td>0</td>\n",
       "    </tr>\n",
       "    <tr>\n",
       "      <th>19</th>\n",
       "      <td>18</td>\n",
       "      <td>0</td>\n",
       "      <td>0</td>\n",
       "    </tr>\n",
       "    <tr>\n",
       "      <th>20</th>\n",
       "      <td>21</td>\n",
       "      <td>0</td>\n",
       "      <td>0</td>\n",
       "    </tr>\n",
       "    <tr>\n",
       "      <th>21</th>\n",
       "      <td>26</td>\n",
       "      <td>0</td>\n",
       "      <td>0</td>\n",
       "    </tr>\n",
       "    <tr>\n",
       "      <th>22</th>\n",
       "      <td>40</td>\n",
       "      <td>1</td>\n",
       "      <td>1</td>\n",
       "    </tr>\n",
       "    <tr>\n",
       "      <th>23</th>\n",
       "      <td>45</td>\n",
       "      <td>1</td>\n",
       "      <td>1</td>\n",
       "    </tr>\n",
       "    <tr>\n",
       "      <th>24</th>\n",
       "      <td>50</td>\n",
       "      <td>1</td>\n",
       "      <td>1</td>\n",
       "    </tr>\n",
       "    <tr>\n",
       "      <th>25</th>\n",
       "      <td>54</td>\n",
       "      <td>1</td>\n",
       "      <td>1</td>\n",
       "    </tr>\n",
       "    <tr>\n",
       "      <th>26</th>\n",
       "      <td>23</td>\n",
       "      <td>0</td>\n",
       "      <td>0</td>\n",
       "    </tr>\n",
       "  </tbody>\n",
       "</table>\n",
       "</div>"
      ],
      "text/plain": [
       "    age  bought_insurance  Predicted\n",
       "0    22                 0          0\n",
       "1    25                 0          0\n",
       "2    47                 1          1\n",
       "3    52                 0          1\n",
       "4    46                 1          1\n",
       "5    56                 1          1\n",
       "6    55                 0          1\n",
       "7    60                 1          1\n",
       "8    62                 1          1\n",
       "9    61                 1          1\n",
       "10   18                 0          0\n",
       "11   28                 0          0\n",
       "12   27                 0          0\n",
       "13   29                 0          0\n",
       "14   49                 1          1\n",
       "15   55                 1          1\n",
       "16   25                 1          0\n",
       "17   58                 1          1\n",
       "18   19                 0          0\n",
       "19   18                 0          0\n",
       "20   21                 0          0\n",
       "21   26                 0          0\n",
       "22   40                 1          1\n",
       "23   45                 1          1\n",
       "24   50                 1          1\n",
       "25   54                 1          1\n",
       "26   23                 0          0"
      ]
     },
     "execution_count": 139,
     "metadata": {},
     "output_type": "execute_result"
    }
   ],
   "source": [
    "df[\"Predicted\"]=model.predict(x)\n",
    "df"
   ]
  },
  {
   "cell_type": "markdown",
   "id": "029623dd-9301-4fd9-8e7a-3e43b1925d5c",
   "metadata": {},
   "source": [
    "# Before Fitting Model"
   ]
  },
  {
   "cell_type": "code",
   "execution_count": 140,
   "id": "6d11d852-e279-4803-adab-5bc2ee1dcd95",
   "metadata": {},
   "outputs": [
    {
     "data": {
      "text/plain": [
       "<matplotlib.collections.PathCollection at 0x183ca90c550>"
      ]
     },
     "execution_count": 140,
     "metadata": {},
     "output_type": "execute_result"
    },
    {
     "data": {
      "image/png": "[encoded data removed]",
      "text/plain": [
       "<Figure size 640x480 with 1 Axes>"
      ]
     },
     "metadata": {},
     "output_type": "display_data"
    }
   ],
   "source": [
    "plt.scatter(df[\"age\"],df[\"bought_insurance\"], marker=\"+\",color=\"red\")"
   ]
  },
  {
   "cell_type": "markdown",
   "id": "b23c2d07-c0ee-45f0-a7a1-a0c919f5f567",
   "metadata": {},
   "source": [
    "# After Fitting Logistic Regression Model"
   ]
  },
  {
   "cell_type": "code",
   "execution_count": 141,
   "id": "e2a1c970-b298-4a63-b3fe-c4ed89c636f2",
   "metadata": {},
   "outputs": [
    {
     "data": {
      "text/plain": [
       "<matplotlib.collections.PathCollection at 0x183ca96f210>"
      ]
     },
     "execution_count": 141,
     "metadata": {},
     "output_type": "execute_result"
    },
    {
     "data": {
      "image/png": "[encoded data removed]",
      "text/plain": [
       "<Figure size 640x480 with 1 Axes>"
      ]
     },
     "metadata": {},
     "output_type": "display_data"
    }
   ],
   "source": [
    "plt.scatter(df[\"age\"],df[\"Predicted\"],marker=\"*\",color=\"black\")"
   ]
  },
  {
   "cell_type": "markdown",
   "id": "9ebdb27f-9c37-453d-ae88-755315c701a8",
   "metadata": {},
   "source": [
    "# Accuracy"
   ]
  },
  {
   "cell_type": "code",
   "execution_count": 142,
   "id": "377b20fe-83df-4e52-98d7-17397ced5090",
   "metadata": {},
   "outputs": [
    {
     "data": {
      "text/plain": [
       "0.8571428571428571"
      ]
     },
     "execution_count": 142,
     "metadata": {},
     "output_type": "execute_result"
    }
   ],
   "source": [
    "model.score(x_test,y_test)"
   ]
  },
  {
   "cell_type": "code",
   "execution_count": null,
   "id": "40a44e44-0f65-4331-95b5-31852a605155",
   "metadata": {},
   "outputs": [],
   "source": []
  },
  {
   "cell_type": "code",
   "execution_count": null,
   "id": "c279f8e8-83d2-4c5a-8f2d-7d3438e009b6",
   "metadata": {},
   "outputs": [],
   "source": []
  },
  {
   "cell_type": "markdown",
   "id": "b415583e-1708-4b76-9142-6d4fc7a48517",
   "metadata": {},
   "source": [
    "# Image Classification using Linear Regression Model for Discrate Dataset"
   ]
  },
  {
   "cell_type": "code",
   "execution_count": 143,
   "id": "e1895a28-c242-4e70-9bbf-637bdc1cd098",
   "metadata": {},
   "outputs": [],
   "source": [
    "import pandas as pd\n",
    "import numpy as np\n",
    "import matplotlib.pyplot as plt\n",
    "import seaborn as sns\n",
    "%matplotlib inline\n",
    "from sklearn.datasets import load_digits"
   ]
  },
  {
   "cell_type": "code",
   "execution_count": 144,
   "id": "a1b504fb-234a-48c2-ac98-7daa1ef2e8d6",
   "metadata": {},
   "outputs": [
    {
     "data": {
      "text/plain": [
       "['DESCR', 'data', 'feature_names', 'frame', 'images', 'target', 'target_names']"
      ]
     },
     "execution_count": 144,
     "metadata": {},
     "output_type": "execute_result"
    }
   ],
   "source": [
    "digit=load_digits()\n",
    "dir(digit)"
   ]
  },
  {
   "cell_type": "code",
   "execution_count": 145,
   "id": "3e9c7ad7-81fa-42d7-97c6-7af4d5ec5194",
   "metadata": {},
   "outputs": [
    {
     "data": {
      "text/plain": [
       "array([[ 0.,  0.,  5., 13.,  9.,  1.,  0.,  0.],\n",
       "       [ 0.,  0., 13., 15., 10., 15.,  5.,  0.],\n",
       "       [ 0.,  3., 15.,  2.,  0., 11.,  8.,  0.],\n",
       "       [ 0.,  4., 12.,  0.,  0.,  8.,  8.,  0.],\n",
       "       [ 0.,  5.,  8.,  0.,  0.,  9.,  8.,  0.],\n",
       "       [ 0.,  4., 11.,  0.,  1., 12.,  7.,  0.],\n",
       "       [ 0.,  2., 14.,  5., 10., 12.,  0.,  0.],\n",
       "       [ 0.,  0.,  6., 13., 10.,  0.,  0.,  0.]])"
      ]
     },
     "execution_count": 145,
     "metadata": {},
     "output_type": "execute_result"
    }
   ],
   "source": [
    "digit.images[0]"
   ]
  },
  {
   "cell_type": "code",
   "execution_count": 146,
   "id": "9f2cbd53-0baa-429d-88b8-cc4bbf2cde53",
   "metadata": {},
   "outputs": [
    {
     "data": {
      "image/png": "[encoded data removed]",
      "text/plain": [
       "<Figure size 480x480 with 1 Axes>"
      ]
     },
     "metadata": {},
     "output_type": "display_data"
    },
    {
     "data": {
      "image/png": "[encoded data removed]",
      "text/plain": [
       "<Figure size 480x480 with 1 Axes>"
      ]
     },
     "metadata": {},
     "output_type": "display_data"
    },
    {
     "data": {
      "image/png": "[encoded data removed]",
      "text/plain": [
       "<Figure size 480x480 with 1 Axes>"
      ]
     },
     "metadata": {},
     "output_type": "display_data"
    },
    {
     "data": {
      "image/png": "[encoded data removed]",
      "text/plain": [
       "<Figure size 480x480 with 1 Axes>"
      ]
     },
     "metadata": {},
     "output_type": "display_data"
    },
    {
     "data": {
      "image/png": "[encoded data removed]",
      "text/plain": [
       "<Figure size 480x480 with 1 Axes>"
      ]
     },
     "metadata": {},
     "output_type": "display_data"
    }
   ],
   "source": [
    "for i in range(5):\n",
    "   plt.matshow(digit.images[i])"
   ]
  },
  {
   "cell_type": "code",
   "execution_count": 147,
   "id": "60ef520d-5d6c-489e-a618-8e4e63585bc9",
   "metadata": {},
   "outputs": [
    {
     "data": {
      "text/plain": [
       "array([0, 1, 2, 3, 4])"
      ]
     },
     "execution_count": 147,
     "metadata": {},
     "output_type": "execute_result"
    }
   ],
   "source": [
    "digit.target[:5]"
   ]
  },
  {
   "cell_type": "markdown",
   "id": "0425856a-9e20-494a-8430-52991961e7d7",
   "metadata": {},
   "source": [
    "# Fit Logistics Regression Model on Multiple Variable"
   ]
  },
  {
   "cell_type": "code",
   "execution_count": 148,
   "id": "84f48878-31ca-4b22-be23-7824b2a23c5c",
   "metadata": {},
   "outputs": [],
   "source": [
    "from sklearn.linear_model import LogisticRegression"
   ]
  },
  {
   "cell_type": "code",
   "execution_count": 149,
   "id": "1669e7e7-c07c-4d11-abe4-e3566b3dfadd",
   "metadata": {},
   "outputs": [],
   "source": [
    "model=LogisticRegression()"
   ]
  },
  {
   "cell_type": "code",
   "execution_count": 150,
   "id": "64d4bf22-90cd-4468-bda9-c871fa1d09b5",
   "metadata": {},
   "outputs": [],
   "source": [
    "from sklearn.model_selection import train_test_split"
   ]
  },
  {
   "cell_type": "code",
   "execution_count": 151,
   "id": "ab1b00fe-3bb6-4e13-b422-d2b3fe7c70f9",
   "metadata": {},
   "outputs": [],
   "source": [
    "x_train,x_test,y_train,y_test=train_test_split(digit.data,digit.target,test_size=0.2)"
   ]
  },
  {
   "cell_type": "code",
   "execution_count": 152,
   "id": "6d909e9e-c172-4039-a640-291b2959e1af",
   "metadata": {},
   "outputs": [
    {
     "data": {
      "text/plain": [
       "1797"
      ]
     },
     "execution_count": 152,
     "metadata": {},
     "output_type": "execute_result"
    }
   ],
   "source": [
    "len(digit.data)"
   ]
  },
  {
   "cell_type": "code",
   "execution_count": 153,
   "id": "7290fee8-261a-4bad-a43a-88fb9fa42d66",
   "metadata": {},
   "outputs": [
    {
     "data": {
      "text/plain": [
       "1797"
      ]
     },
     "execution_count": 153,
     "metadata": {},
     "output_type": "execute_result"
    }
   ],
   "source": [
    "len(digit.target)"
   ]
  },
  {
   "cell_type": "code",
   "execution_count": null,
   "id": "809ed44a-73a1-4d19-bdcb-d5fe1620438b",
   "metadata": {},
   "outputs": [],
   "source": [
    "model.fit(x_train,y_train)"
   ]
  },
  {
   "cell_type": "code",
   "execution_count": 155,
   "id": "e28af737-f61a-460f-b0f3-f78757d41512",
   "metadata": {},
   "outputs": [
    {
     "data": {
      "text/plain": [
       "array([1, 0, 7, 0, 5, 0, 5, 7, 4, 0, 8, 3, 0, 3, 2, 0, 8, 7, 5, 0, 0, 4,\n",
       "       9, 1, 5, 1, 2, 0, 9, 2, 8, 7, 6, 1, 8, 4, 3, 5, 4, 5, 3, 8, 8, 7,\n",
       "       7, 1, 6, 6, 4, 8, 0, 5, 6, 6, 5, 8, 0, 1, 6, 3, 3, 0, 9, 9, 7, 6,\n",
       "       0, 4, 8, 2, 2, 5, 3, 5, 2, 0, 8, 3, 3, 9, 3, 1, 0, 5, 1, 3, 7, 7,\n",
       "       2, 6, 4, 6, 1, 5, 0, 8, 8, 8, 8, 1, 5, 6, 7, 5, 5, 1, 7, 8, 1, 3,\n",
       "       2, 6, 1, 2, 0, 8, 0, 1, 2, 1, 4, 9, 3, 2, 5, 0, 9, 6, 2, 2, 2, 5,\n",
       "       7, 5, 4, 0, 7, 0, 7, 6, 2, 3, 8, 8, 4, 0, 1, 6, 2, 5, 5, 6, 4, 5,\n",
       "       1, 5, 2, 6, 7, 2, 5, 6, 4, 0, 4, 6, 6, 5, 5, 2, 5, 8, 5, 7, 0, 7,\n",
       "       1, 3, 9, 7, 9, 5, 7, 4, 4, 6, 9, 1, 0, 7, 7, 9, 3, 2, 3, 3, 6, 8,\n",
       "       2, 8, 2, 1, 9, 2, 8, 7, 0, 3, 0, 8, 3, 4, 6, 8, 1, 4, 8, 5, 8, 7,\n",
       "       3, 5, 7, 2, 0, 1, 7, 1, 9, 4, 4, 7, 8, 3, 3, 1, 2, 0, 1, 6, 1, 0,\n",
       "       4, 3, 4, 4, 0, 4, 4, 8, 9, 2, 1, 9, 1, 6, 3, 5, 9, 1, 1, 8, 8, 0,\n",
       "       9, 8, 1, 5, 6, 8, 1, 0, 0, 1, 5, 1, 8, 5, 5, 7, 0, 8, 8, 8, 5, 4,\n",
       "       7, 7, 2, 6, 7, 2, 7, 9, 1, 9, 7, 1, 6, 6, 5, 5, 9, 7, 2, 4, 7, 4,\n",
       "       6, 6, 9, 3, 8, 7, 3, 5, 5, 5, 7, 8, 5, 0, 4, 1, 5, 9, 1, 2, 2, 6,\n",
       "       5, 4, 8, 0, 9, 9, 8, 2, 9, 8, 6, 2, 8, 2, 7, 3, 7, 8, 5, 4, 9, 2,\n",
       "       9, 3, 2, 8, 4, 8, 9, 2])"
      ]
     },
     "execution_count": 155,
     "metadata": {},
     "output_type": "execute_result"
    }
   ],
   "source": [
    "model.predict(x_test)"
   ]
  },
  {
   "cell_type": "code",
   "execution_count": 156,
   "id": "619f9f98-5d79-4cb3-b399-7348d86c55c2",
   "metadata": {},
   "outputs": [
    {
     "data": {
      "text/plain": [
       "array([1, 0, 7, 0, 5, 0, 5, 7, 4, 0, 8, 3, 0, 3, 2, 0, 8, 7, 5, 0, 0, 4,\n",
       "       9, 1, 5, 1, 2, 0, 9, 2, 6, 7, 6, 1, 8, 4, 3, 5, 4, 5, 5, 8, 8, 7,\n",
       "       7, 1, 6, 6, 4, 8, 0, 5, 6, 6, 5, 8, 0, 5, 6, 3, 3, 0, 9, 9, 7, 6,\n",
       "       0, 4, 8, 8, 2, 5, 3, 5, 2, 0, 8, 3, 3, 9, 3, 1, 0, 5, 1, 3, 7, 7,\n",
       "       2, 4, 4, 6, 1, 5, 0, 8, 8, 1, 8, 1, 5, 6, 7, 5, 5, 1, 7, 8, 1, 3,\n",
       "       2, 6, 1, 2, 0, 8, 0, 1, 2, 1, 4, 9, 3, 2, 5, 0, 9, 6, 2, 2, 2, 5,\n",
       "       7, 5, 4, 0, 7, 0, 7, 6, 2, 3, 8, 8, 4, 0, 1, 6, 2, 5, 5, 6, 4, 5,\n",
       "       1, 5, 2, 6, 7, 2, 5, 6, 4, 0, 4, 6, 6, 5, 5, 2, 5, 8, 5, 7, 0, 7,\n",
       "       1, 3, 9, 7, 5, 5, 7, 4, 4, 6, 9, 1, 0, 7, 7, 9, 3, 2, 3, 3, 8, 8,\n",
       "       2, 8, 2, 1, 9, 2, 8, 7, 0, 3, 0, 8, 3, 4, 6, 8, 1, 4, 9, 5, 8, 7,\n",
       "       3, 5, 7, 3, 0, 1, 7, 1, 9, 4, 4, 7, 8, 3, 3, 1, 2, 0, 1, 6, 1, 0,\n",
       "       4, 3, 4, 4, 0, 4, 4, 8, 9, 2, 1, 9, 1, 6, 3, 5, 9, 1, 1, 8, 8, 0,\n",
       "       9, 8, 1, 5, 6, 8, 1, 0, 0, 1, 5, 1, 8, 5, 5, 7, 0, 8, 8, 8, 5, 4,\n",
       "       7, 7, 2, 6, 7, 2, 7, 9, 1, 9, 7, 1, 6, 6, 5, 5, 9, 7, 2, 4, 7, 4,\n",
       "       6, 6, 9, 3, 8, 7, 3, 5, 5, 5, 7, 8, 3, 0, 4, 1, 5, 9, 1, 2, 2, 6,\n",
       "       5, 4, 9, 0, 9, 9, 8, 2, 9, 8, 6, 2, 8, 2, 7, 3, 7, 8, 5, 4, 9, 2,\n",
       "       9, 3, 2, 8, 4, 8, 9, 2])"
      ]
     },
     "execution_count": 156,
     "metadata": {},
     "output_type": "execute_result"
    }
   ],
   "source": [
    "y_test"
   ]
  },
  {
   "cell_type": "markdown",
   "id": "73a09f5e-0f1f-426d-80aa-dc57df47aa9a",
   "metadata": {},
   "source": [
    "# Accuracy"
   ]
  },
  {
   "cell_type": "code",
   "execution_count": 157,
   "id": "e79d08b1-4343-46e5-a9cc-e2b5b29cbd14",
   "metadata": {},
   "outputs": [
    {
     "data": {
      "text/plain": [
       "0.9666666666666667"
      ]
     },
     "execution_count": 157,
     "metadata": {},
     "output_type": "execute_result"
    }
   ],
   "source": [
    "model.score(x_test,y_test)"
   ]
  },
  {
   "cell_type": "markdown",
   "id": "a5b50dc9-84b0-4263-8cba-0ecc9d04f961",
   "metadata": {},
   "source": [
    "# Confussion Matrix to check Error"
   ]
  },
  {
   "cell_type": "code",
   "execution_count": 158,
   "id": "4ddf08f3-2d2e-4d13-b7cf-47a6fd8a7333",
   "metadata": {},
   "outputs": [],
   "source": [
    "y_predict=model.predict(x_test)"
   ]
  },
  {
   "cell_type": "code",
   "execution_count": 159,
   "id": "74dce7f5-822f-4b8a-8876-fdb8eda97936",
   "metadata": {},
   "outputs": [],
   "source": [
    "from sklearn.metrics import confusion_matrix\n",
    "cm=confusion_matrix(y_test,y_predict)"
   ]
  },
  {
   "cell_type": "code",
   "execution_count": 165,
   "id": "bee7bbb2-1f49-438f-9286-8776e9080aad",
   "metadata": {},
   "outputs": [
    {
     "data": {
      "text/plain": [
       "Text(95.72222222222221, 0.5, 'Truth')"
      ]
     },
     "execution_count": 165,
     "metadata": {},
     "output_type": "execute_result"
    },
    {
     "data": {
      "image/png": "[encoded data removed]",
      "text/plain": [
       "<Figure size 1000x700 with 2 Axes>"
      ]
     },
     "metadata": {},
     "output_type": "display_data"
    }
   ],
   "source": [
    "plt.figure(figsize=(10,7))\n",
    "sns.heatmap(cm,annot=True)\n",
    "plt.xlabel(\"Predicted\")\n",
    "plt.ylabel(\"Truth\")"
   ]
  },
  {
   "cell_type": "code",
   "execution_count": null,
   "id": "73555dda-24f2-47c7-8ba3-6a57a83b45f8",
   "metadata": {},
   "outputs": [],
   "source": []
  },
  {
   "cell_type": "code",
   "execution_count": null,
   "id": "d3674915-2a86-45de-a77d-8c1262effa7b",
   "metadata": {},
   "outputs": [],
   "source": []
  },
  {
   "cell_type": "code",
   "execution_count": null,
   "id": "fe38c909-6827-4633-8062-28c9258eee50",
   "metadata": {},
   "outputs": [],
   "source": []
  },
  {
   "cell_type": "code",
   "execution_count": null,
   "id": "11ee6629-c2fe-455e-bd9c-bcacf129f245",
   "metadata": {},
   "outputs": [],
   "source": []
  },
  {
   "cell_type": "code",
   "execution_count": null,
   "id": "2b668a82-bc5e-4617-a834-f4b338c95629",
   "metadata": {},
   "outputs": [],
   "source": []
  }
 ],
 "metadata": {
  "kernelspec": {
   "display_name": "Python 3 (ipykernel)",
   "language": "python",
   "name": "python3"
  },
  "language_info": {
   "codemirror_mode": {
    "name": "ipython",
    "version": 3
   },
   "file_extension": ".py",
   "mimetype": "text/x-python",
   "name": "python",
   "nbconvert_exporter": "python",
   "pygments_lexer": "ipython3",
   "version": "3.11.7"
  }
 },
 "nbformat": 4,
 "nbformat_minor": 5
}
